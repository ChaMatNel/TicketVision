{
 "cells": [
  {
   "cell_type": "code",
   "execution_count": 1,
   "metadata": {},
   "outputs": [
    {
     "data": {
      "text/plain": [
       "'2024-10-28-08-28-pm'"
      ]
     },
     "execution_count": 1,
     "metadata": {},
     "output_type": "execute_result"
    }
   ],
   "source": [
    "from datetime import datetime\n",
    "\n",
    "def generate_timestamp():\n",
    "    # Get the current time\n",
    "    now = datetime.now()\n",
    "    # Format the timestamp as \"YYYY-MM-DD-HH-MM-AM/PM\"\n",
    "    timestamp = now.strftime(\"%Y-%m-%d-%I-%M-%p\").lower()\n",
    "    return timestamp\n",
    "\n",
    "generate_timestamp()"
   ]
  },
  {
   "cell_type": "code",
   "execution_count": 3,
   "metadata": {},
   "outputs": [
    {
     "name": "stdout",
     "output_type": "stream",
     "text": [
      "nuggets_v_utah_2024-11-27-07-00-pm\n"
     ]
    }
   ],
   "source": [
    "import re\n",
    "from datetime import datetime, timedelta\n",
    "\n",
    "def format_event_name(text):\n",
    "    # Extract team names using regular expressions\n",
    "    teams = re.findall(r\"(\\b\\w+\\b) (?:at|vs) (\\b\\w+\\b)\", text, re.IGNORECASE)\n",
    "    # Extract date and time\n",
    "    date_time = re.search(r\"(\\w{3} \\w{3} \\d+ at \\d+:\\d+\\w{2})\", text, re.IGNORECASE)\n",
    "\n",
    "    if teams and date_time:\n",
    "        team1, team2 = teams[0]\n",
    "        # Format team names\n",
    "        formatted_teams = f\"{team1.lower()}_v_{team2.lower()}\"\n",
    "        \n",
    "        # Parse the extracted date and time\n",
    "        event_dt = datetime.strptime(date_time.group(0), \"%a %b %d at %I:%M%p\")\n",
    "\n",
    "        # Adjust the year to the next occurrence of this date\n",
    "        current_year = datetime.now().year\n",
    "        event_dt = event_dt.replace(year=current_year)\n",
    "        if event_dt < datetime.now():\n",
    "            event_dt = event_dt.replace(year=current_year + 1)\n",
    "        \n",
    "        # Format the date and time to the desired format\n",
    "        formatted_date_time = event_dt.strftime(\"%Y-%m-%d-%I-%M-%p\").lower()\n",
    "        \n",
    "        # Combine into the final event name\n",
    "        event_name = f\"{formatted_teams}_{formatted_date_time}\"\n",
    "        return event_name\n",
    "    else:\n",
    "        return \"Invalid text format\"\n",
    "\n",
    "# Example usage\n",
    "text = \"Denver Nuggets at Utah Jazz\\nWed Nov 27 at 7:00pm · Delta Center, Salt Lake City, UT\"\n",
    "print(format_event_name(text))\n"
   ]
  }
 ],
 "metadata": {
  "kernelspec": {
   "display_name": "base",
   "language": "python",
   "name": "python3"
  },
  "language_info": {
   "codemirror_mode": {
    "name": "ipython",
    "version": 3
   },
   "file_extension": ".py",
   "mimetype": "text/x-python",
   "name": "python",
   "nbconvert_exporter": "python",
   "pygments_lexer": "ipython3",
   "version": "3.12.4"
  }
 },
 "nbformat": 4,
 "nbformat_minor": 2
}
